{
 "cells": [
  {
   "cell_type": "code",
   "execution_count": null,
   "id": "1439e494-4a8d-47a7-95a0-b9679e757554",
   "metadata": {},
   "outputs": [],
   "source": [
    "# Q1. Write a python program to extract the video URL of the first five videos."
   ]
  },
  {
   "cell_type": "code",
   "execution_count": 4,
   "id": "83eeb423-c097-4c6d-9cd4-005fd475a526",
   "metadata": {},
   "outputs": [
    {
     "name": "stdout",
     "output_type": "stream",
     "text": [
      "Collecting flask\n",
      "  Downloading Flask-2.3.2-py3-none-any.whl (96 kB)\n",
      "\u001b[2K     \u001b[90m━━━━━━━━━━━━━━━━━━━━━━━━━━━━━━━━━━━━━━━━\u001b[0m \u001b[32m96.9/96.9 kB\u001b[0m \u001b[31m9.8 MB/s\u001b[0m eta \u001b[36m0:00:00\u001b[0m\n",
      "\u001b[?25hCollecting blinker>=1.6.2\n",
      "  Downloading blinker-1.6.2-py3-none-any.whl (13 kB)\n",
      "Collecting Werkzeug>=2.3.3\n",
      "  Downloading Werkzeug-2.3.6-py3-none-any.whl (242 kB)\n",
      "\u001b[2K     \u001b[90m━━━━━━━━━━━━━━━━━━━━━━━━━━━━━━━━━━━━━━\u001b[0m \u001b[32m242.5/242.5 kB\u001b[0m \u001b[31m27.5 MB/s\u001b[0m eta \u001b[36m0:00:00\u001b[0m\n",
      "\u001b[?25hRequirement already satisfied: Jinja2>=3.1.2 in /opt/conda/lib/python3.10/site-packages (from flask) (3.1.2)\n",
      "Collecting itsdangerous>=2.1.2\n",
      "  Downloading itsdangerous-2.1.2-py3-none-any.whl (15 kB)\n",
      "Requirement already satisfied: click>=8.1.3 in /opt/conda/lib/python3.10/site-packages (from flask) (8.1.3)\n",
      "Requirement already satisfied: MarkupSafe>=2.0 in /opt/conda/lib/python3.10/site-packages (from Jinja2>=3.1.2->flask) (2.1.1)\n",
      "Installing collected packages: Werkzeug, itsdangerous, blinker, flask\n",
      "  Attempting uninstall: blinker\n",
      "    Found existing installation: blinker 1.5\n",
      "    Uninstalling blinker-1.5:\n",
      "      Successfully uninstalled blinker-1.5\n",
      "Successfully installed Werkzeug-2.3.6 blinker-1.6.2 flask-2.3.2 itsdangerous-2.1.2\n",
      "Note: you may need to restart the kernel to use updated packages.\n"
     ]
    }
   ],
   "source": [
    "pip install flask"
   ]
  },
  {
   "cell_type": "code",
   "execution_count": 1,
   "id": "4ddd76b4-3b29-4b73-81f2-a4cd2711db20",
   "metadata": {},
   "outputs": [
    {
     "name": "stdout",
     "output_type": "stream",
     "text": [
      "Collecting flask_cors\n",
      "  Downloading Flask_Cors-4.0.0-py2.py3-none-any.whl (14 kB)\n",
      "Requirement already satisfied: Flask>=0.9 in /opt/conda/lib/python3.10/site-packages (from flask_cors) (2.3.2)\n",
      "Requirement already satisfied: Werkzeug>=2.3.3 in /opt/conda/lib/python3.10/site-packages (from Flask>=0.9->flask_cors) (2.3.6)\n",
      "Requirement already satisfied: itsdangerous>=2.1.2 in /opt/conda/lib/python3.10/site-packages (from Flask>=0.9->flask_cors) (2.1.2)\n",
      "Requirement already satisfied: Jinja2>=3.1.2 in /opt/conda/lib/python3.10/site-packages (from Flask>=0.9->flask_cors) (3.1.2)\n",
      "Requirement already satisfied: click>=8.1.3 in /opt/conda/lib/python3.10/site-packages (from Flask>=0.9->flask_cors) (8.1.3)\n",
      "Requirement already satisfied: blinker>=1.6.2 in /opt/conda/lib/python3.10/site-packages (from Flask>=0.9->flask_cors) (1.6.2)\n",
      "Requirement already satisfied: MarkupSafe>=2.0 in /opt/conda/lib/python3.10/site-packages (from Jinja2>=3.1.2->Flask>=0.9->flask_cors) (2.1.1)\n",
      "Installing collected packages: flask_cors\n",
      "Successfully installed flask_cors-4.0.0\n",
      "Note: you may need to restart the kernel to use updated packages.\n"
     ]
    }
   ],
   "source": [
    "pip install flask_cors"
   ]
  },
  {
   "cell_type": "code",
   "execution_count": 1,
   "id": "fbc584c0-c1a2-4abb-bcba-7a85628ec5f3",
   "metadata": {},
   "outputs": [],
   "source": [
    "from flask import Flask, render_template, request, jsonify\n",
    "from flask_cors import CORS, cross_origin\n",
    "import logging\n",
    "import requests\n",
    "import re\n",
    "import pandas as pd"
   ]
  },
  {
   "cell_type": "code",
   "execution_count": 2,
   "id": "e7cc111a-d1b1-4c6b-9a19-bc24d3714d24",
   "metadata": {},
   "outputs": [],
   "source": [
    "query = 'PW-Foundation'\n"
   ]
  },
  {
   "cell_type": "code",
   "execution_count": 3,
   "id": "911ab952-5ac0-48f8-b9d4-f1e0ee05fb05",
   "metadata": {},
   "outputs": [],
   "source": [
    "url = f'https://www.youtube.com/@{query}/videos'"
   ]
  },
  {
   "cell_type": "code",
   "execution_count": 4,
   "id": "ef5eeff1-49c2-4d16-b8f9-0b1ccc4e5395",
   "metadata": {},
   "outputs": [
    {
     "name": "stdout",
     "output_type": "stream",
     "text": [
      "200\n"
     ]
    }
   ],
   "source": [
    "headers = {\"User-Agent\": \"Mozilla/5.0 (Windows NT 10.0; Win64; x64) AppleWebKit/537.36 (KHTML, like Gecko) Chrome/58.0.3029.110 Safari/537.36\"}\n",
    "response = requests.get(url, headers=headers)\n",
    "print(response.status_code)\n",
    "response_text = response.text"
   ]
  },
  {
   "cell_type": "code",
   "execution_count": 6,
   "id": "a046b40a-394f-4dd0-9950-5b26c4f14b30",
   "metadata": {},
   "outputs": [],
   "source": [
    "vid_titles = re.findall('\"title\":{\"runs\":\\[{\"text\":\".*?\"', response_text)"
   ]
  },
  {
   "cell_type": "code",
   "execution_count": 7,
   "id": "bdfbeb54-e0b6-4966-a94d-e1931d0991be",
   "metadata": {},
   "outputs": [],
   "source": [
    "vid_titles = re.findall('\"title\":{\"runs\":\\[{\"text\":\".*?\"', response_text)"
   ]
  },
  {
   "cell_type": "code",
   "execution_count": 8,
   "id": "fa922d29-b8ee-474f-8922-9d2f71e5a571",
   "metadata": {},
   "outputs": [
    {
     "data": {
      "text/plain": [
       "['\"title\":{\"runs\":[{\"text\":\"⚡Unleashing the Power of PW Internationally⚡| Launching Physics Wallah Gulf\"',\n",
       " '\"title\":{\"runs\":[{\"text\":\"Big Announcement for Gulf Region Aspirants 🔥| Physics Wallah Gulf Channel Trailer🚀\"',\n",
       " '\"title\":{\"runs\":[{\"text\":\"Arjuna JEE v/s Arjuna NEET 🏏- Class 11th Faculties ka Cricket Match 🔥\"',\n",
       " '\"title\":{\"runs\":[{\"text\":\"How to Study Zoology in Class 11th? Ab Saare Doubts Solve Honge !! 🔥\"',\n",
       " '\"title\":{\"runs\":[{\"text\":\"BIGGEST OFFER For Class - 8th ,9th \\\\u0026 10th Students 🤩 || Grab This Opportunity Now 🔥\"']"
      ]
     },
     "execution_count": 8,
     "metadata": {},
     "output_type": "execute_result"
    }
   ],
   "source": [
    "vid_titles[0:5]"
   ]
  },
  {
   "cell_type": "code",
   "execution_count": 1,
   "id": "850f3412-ab9b-4a57-8d14-a19028109594",
   "metadata": {},
   "outputs": [],
   "source": [
    "# Q2. Write a python program to extract the URL of the video thumbnails of the first five videos."
   ]
  },
  {
   "cell_type": "code",
   "execution_count": 10,
   "id": "d92ce534-4394-485e-ac60-a4d22b2d7985",
   "metadata": {},
   "outputs": [],
   "source": [
    "vid_thumbnails = re.findall(r\"https://i.ytimg.com/vi/[A-Za-z0-9_-]{11}/[A-Za-z0-9_]{9}.jpg\",response_text)\n"
   ]
  },
  {
   "cell_type": "code",
   "execution_count": 11,
   "id": "46f40a72-a52f-4c4c-a340-518a7a5b3c82",
   "metadata": {},
   "outputs": [
    {
     "data": {
      "text/plain": [
       "['https://i.ytimg.com/vi/1izKrQHyx9M/hqdefault.jpg',\n",
       " 'https://i.ytimg.com/vi/1izKrQHyx9M/hqdefault.jpg',\n",
       " 'https://i.ytimg.com/vi/1izKrQHyx9M/hqdefault.jpg',\n",
       " 'https://i.ytimg.com/vi/1izKrQHyx9M/hqdefault.jpg',\n",
       " 'https://i.ytimg.com/vi/jXAb1evxaJc/hqdefault.jpg']"
      ]
     },
     "execution_count": 11,
     "metadata": {},
     "output_type": "execute_result"
    }
   ],
   "source": [
    "vid_thumbnails[0:5]"
   ]
  },
  {
   "cell_type": "code",
   "execution_count": null,
   "id": "b07a9f1e-9ea9-4e0c-b6fb-ec5d99d2dc90",
   "metadata": {},
   "outputs": [],
   "source": [
    "Q3. Write a python program to extract the title of the first five videos."
   ]
  },
  {
   "cell_type": "code",
   "execution_count": 13,
   "id": "1845d711-00fb-4647-a11f-ffbd328d1723",
   "metadata": {},
   "outputs": [],
   "source": [
    "vid_links = re.findall(r\"watch\\?v=[A-Za-z0-9_-]{11}\", response_text)"
   ]
  },
  {
   "cell_type": "code",
   "execution_count": 15,
   "id": "74f0899e-00cc-4327-8419-5a32d472c255",
   "metadata": {},
   "outputs": [
    {
     "data": {
      "text/plain": [
       "['watch?v=1izKrQHyx9M',\n",
       " 'watch?v=jXAb1evxaJc',\n",
       " 'watch?v=2dn7XMxRtPE',\n",
       " 'watch?v=Fks4dVnTb5M',\n",
       " 'watch?v=nIuGXeISbSo']"
      ]
     },
     "execution_count": 15,
     "metadata": {},
     "output_type": "execute_result"
    }
   ],
   "source": [
    "vid_links[0:5]"
   ]
  },
  {
   "cell_type": "code",
   "execution_count": null,
   "id": "9b91ed5e-35c4-4ae7-9325-f735db3bfd91",
   "metadata": {},
   "outputs": [],
   "source": [
    "Q4. Write a python program to extract the number of views of the first five videos."
   ]
  },
  {
   "cell_type": "code",
   "execution_count": 18,
   "id": "3b1b6316-0f46-4bf7-9fa8-5232eca2793a",
   "metadata": {},
   "outputs": [],
   "source": [
    "pattern3 = re.compile(r\"[0-9]+(\\.[0-9]+)?[a-zA-z]*K views\")"
   ]
  },
  {
   "cell_type": "code",
   "execution_count": 19,
   "id": "66163385-0029-4a22-8940-f9f3833d10d9",
   "metadata": {},
   "outputs": [
    {
     "data": {
      "text/plain": [
       "re.compile(r'[0-9]+(\\.[0-9]+)?[a-zA-z]*K views', re.UNICODE)"
      ]
     },
     "execution_count": 19,
     "metadata": {},
     "output_type": "execute_result"
    }
   ],
   "source": [
    "pattern3"
   ]
  },
  {
   "cell_type": "code",
   "execution_count": 21,
   "id": "79df13a0-8d5f-4dce-893b-f0bbf2614412",
   "metadata": {},
   "outputs": [],
   "source": [
    "pattern4 = re.compile(r\"\\d+ (minutes|hours|hour|days|day|weeks|week|years|year) ago\")"
   ]
  },
  {
   "cell_type": "code",
   "execution_count": 22,
   "id": "0568d63b-bf9b-4524-acaa-8a757731080b",
   "metadata": {},
   "outputs": [
    {
     "data": {
      "text/plain": [
       "re.compile(r'\\d+ (minutes|hours|hour|days|day|weeks|week|years|year) ago',\n",
       "           re.UNICODE)"
      ]
     },
     "execution_count": 22,
     "metadata": {},
     "output_type": "execute_result"
    }
   ],
   "source": [
    "pattern4"
   ]
  },
  {
   "cell_type": "code",
   "execution_count": 23,
   "id": "af855958-cead-47de-9d7b-231de17d401a",
   "metadata": {},
   "outputs": [
    {
     "data": {
      "text/plain": [
       "re.compile(r'\\d+ (minutes|hours|hour|days|day|weeks|week|years|year) ago',\n",
       "           re.UNICODE)"
      ]
     },
     "execution_count": 23,
     "metadata": {},
     "output_type": "execute_result"
    }
   ],
   "source": [
    "re.compile(r'\\d+ (minutes|hours|hour|days|day|weeks|week|years|year) ago',\n",
    "           re.UNICODE)"
   ]
  },
  {
   "cell_type": "code",
   "execution_count": 24,
   "id": "919bb07b-3444-45e6-9057-7d347ac7a105",
   "metadata": {},
   "outputs": [
    {
     "data": {
      "text/plain": [
       "<callable_iterator at 0x7f36d59071c0>"
      ]
     },
     "execution_count": 24,
     "metadata": {},
     "output_type": "execute_result"
    }
   ],
   "source": [
    "pattern3.finditer(response_text)"
   ]
  },
  {
   "cell_type": "code",
   "execution_count": 25,
   "id": "1664f982-211b-461f-a7c1-7cb48913a01d",
   "metadata": {},
   "outputs": [
    {
     "data": {
      "text/plain": [
       "<callable_iterator at 0x7f36d5907730>"
      ]
     },
     "execution_count": 25,
     "metadata": {},
     "output_type": "execute_result"
    }
   ],
   "source": [
    "pattern4.finditer(response_text)"
   ]
  },
  {
   "cell_type": "code",
   "execution_count": 26,
   "id": "09521a8d-4231-4008-a623-544d78865ca0",
   "metadata": {},
   "outputs": [],
   "source": [
    "matches1 = pattern3.finditer(response_text)"
   ]
  },
  {
   "cell_type": "code",
   "execution_count": 27,
   "id": "5299fdcd-13c0-4a4d-9a12-5f0fe0a8e835",
   "metadata": {},
   "outputs": [],
   "source": [
    "matches2 = pattern4.finditer(response_text)"
   ]
  },
  {
   "cell_type": "code",
   "execution_count": 28,
   "id": "5a1e0331-e994-4d09-81e7-c335e6b70f9e",
   "metadata": {},
   "outputs": [],
   "source": [
    "vid_viewcounts=[]\n",
    "vid_ages=[]\n",
    "count = 0\n",
    "for match1,match2 in zip(matches1,matches2):\n",
    "    vid_ages.append(match2[0])\n",
    "    vid_viewcounts.append(match1[0])"
   ]
  },
  {
   "cell_type": "code",
   "execution_count": 32,
   "id": "4864411d-2614-4eb0-98b9-72884e27e40a",
   "metadata": {},
   "outputs": [
    {
     "data": {
      "text/plain": [
       "[{'title': '⚡Unleashing the Power of PW Internationally⚡| Launching Physics Wallah Gulf',\n",
       "  'thumbnail': 'https://i.ytimg.com/vi/1izKrQHyx9M/hqdefault.jpg',\n",
       "  'link': 'https://www.youtube.com/watch?v=1izKrQHyx9M',\n",
       "  'viewcount': '61K views',\n",
       "  'timeposting': '2 weeks ago'},\n",
       " {'title': 'Big Announcement for Gulf Region Aspirants 🔥| Physics Wallah Gulf Channel Trailer🚀',\n",
       "  'thumbnail': 'https://i.ytimg.com/vi/1izKrQHyx9M/hqdefault.jpg',\n",
       "  'link': 'https://www.youtube.com/watch?v=jXAb1evxaJc',\n",
       "  'viewcount': '61K views',\n",
       "  'timeposting': '2 weeks ago'},\n",
       " {'title': 'Arjuna JEE v/s Arjuna NEET 🏏- Class 11th Faculties ka Cricket Match 🔥',\n",
       "  'thumbnail': 'https://i.ytimg.com/vi/1izKrQHyx9M/hqdefault.jpg',\n",
       "  'link': 'https://www.youtube.com/watch?v=2dn7XMxRtPE',\n",
       "  'viewcount': '93K views',\n",
       "  'timeposting': '3 weeks ago'},\n",
       " {'title': 'How to Study Zoology in Class 11th? Ab Saare Doubts Solve Honge !! 🔥',\n",
       "  'thumbnail': 'https://i.ytimg.com/vi/1izKrQHyx9M/hqdefault.jpg',\n",
       "  'link': 'https://www.youtube.com/watch?v=Fks4dVnTb5M',\n",
       "  'viewcount': '93K views',\n",
       "  'timeposting': '3 weeks ago'},\n",
       " {'title': 'BIGGEST OFFER For Class - 8th ,9th \\\\u0026 10th Students 🤩 || Grab This Opportunity Now 🔥',\n",
       "  'thumbnail': 'https://i.ytimg.com/vi/jXAb1evxaJc/hqdefault.jpg',\n",
       "  'link': 'https://www.youtube.com/watch?v=nIuGXeISbSo',\n",
       "  'viewcount': '350K views',\n",
       "  'timeposting': '3 weeks ago'}]"
      ]
     },
     "execution_count": 32,
     "metadata": {},
     "output_type": "execute_result"
    }
   ],
   "source": [
    "titles = vid_titles[:5]\n",
    "thumbnails = vid_thumbnails[:5]\n",
    "links = vid_links[:5]\n",
    "viewcounts = vid_viewcounts[:5]\n",
    "timeposting = vid_ages[:5]  # Changed variable name from 'ages' to 'timeposting'\n",
    "\n",
    "details_list = []\n",
    "\n",
    "for title, thumbnail, link, viewcount, timepost in zip(titles, thumbnails, links, viewcounts, timeposting):  # Changed variable name from 'age' to 'timepost'\n",
    "    details_dict = {\n",
    "        \"title\": title.split('\"')[-2],\n",
    "        \"thumbnail\": thumbnail,\n",
    "        \"link\": \"https://www.youtube.com/\" + link,\n",
    "        \"viewcount\": viewcount,\n",
    "        \"timeposting\": timepost  # Changed key from 'age' to 'timeposting'\n",
    "    }\n",
    "    details_list.append(details_dict)\n",
    "\n",
    "details_list"
   ]
  },
  {
   "cell_type": "code",
   "execution_count": 34,
   "id": "ebd49a93-c1af-4a96-9605-fcd87171fe60",
   "metadata": {},
   "outputs": [],
   "source": [
    "df = pd.DataFrame(details_list)"
   ]
  },
  {
   "cell_type": "code",
   "execution_count": 37,
   "id": "7e37187f-3fb2-4b01-820b-08a748a8a01f",
   "metadata": {},
   "outputs": [],
   "source": [
    "df.to_csv('YtScrapeData.csv', index=False)"
   ]
  },
  {
   "cell_type": "code",
   "execution_count": null,
   "id": "e5c660f9-4853-4319-bc4a-2a42e0dc5b4f",
   "metadata": {},
   "outputs": [],
   "source": []
  },
  {
   "cell_type": "code",
   "execution_count": null,
   "id": "76b4a872-0716-4edb-b159-432d073f1a1b",
   "metadata": {},
   "outputs": [],
   "source": []
  }
 ],
 "metadata": {
  "kernelspec": {
   "display_name": "Python 3 (ipykernel)",
   "language": "python",
   "name": "python3"
  },
  "language_info": {
   "codemirror_mode": {
    "name": "ipython",
    "version": 3
   },
   "file_extension": ".py",
   "mimetype": "text/x-python",
   "name": "python",
   "nbconvert_exporter": "python",
   "pygments_lexer": "ipython3",
   "version": "3.10.8"
  }
 },
 "nbformat": 4,
 "nbformat_minor": 5
}
